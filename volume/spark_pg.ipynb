{
 "cells": [
  {
   "cell_type": "code",
   "execution_count": 1,
   "metadata": {},
   "outputs": [],
   "source": [
    "from pyspark.sql import SparkSession\n",
    "\n",
    "spark = SparkSession.\\\n",
    "        builder.\\\n",
    "        appName(\"pyspark-notebook\").\\\n",
    "        master(\"spark://spark-master:7077\").\\\n",
    "        config(\"spark.executor.memory\", \"512m\").\\\n",
    "        getOrCreate()"
   ]
  },
  {
   "cell_type": "code",
   "execution_count": 10,
   "metadata": {},
   "outputs": [
    {
     "data": {
      "text/plain": [
       "[Row(DEST_COUNTRY_NAME=None, ORIGIN_COUNTRY_NAME='Romania', count=15.0),\n",
       " Row(DEST_COUNTRY_NAME=None, ORIGIN_COUNTRY_NAME='Croatia', count=1.0)]"
      ]
     },
     "execution_count": 10,
     "metadata": {},
     "output_type": "execute_result"
    }
   ],
   "source": [
    "from pyspark.sql.types import StructType, StructField, StringType, LongType, BooleanType, FloatType\n",
    "man_schema = StructType(\n",
    "    [\n",
    "        StructField('DEST_COUNTRY_NAME', LongType(), True),\n",
    "        StructField('ORIGIN_COUNTRY_NAME', StringType(), True),\n",
    "        StructField('count', FloatType(), True, metadata={'hello': 'world'})\n",
    "    ]\n",
    ")\n",
    "spark.read.format('json').schema(man_schema).load('./data/flight-data/json/2015-summary.json').take(2)"
   ]
  }
 ],
 "metadata": {
  "kernelspec": {
   "display_name": "Python 3",
   "language": "python",
   "name": "python3"
  },
  "language_info": {
   "codemirror_mode": {
    "name": "ipython",
    "version": 3
   },
   "file_extension": ".py",
   "mimetype": "text/x-python",
   "name": "python",
   "nbconvert_exporter": "python",
   "pygments_lexer": "ipython3",
   "version": "3.7.3"
  }
 },
 "nbformat": 4,
 "nbformat_minor": 4
}
